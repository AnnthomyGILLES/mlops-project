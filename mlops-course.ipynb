{
 "cells": [
  {
   "cell_type": "markdown",
   "source": [],
   "metadata": {
    "collapsed": false
   }
  },
  {
   "cell_type": "markdown",
   "source": [
    "### Introduction to the Project: Rapidly Ramping Up on ZenML\n",
    "\n",
    "#### Overview\n",
    "\n",
    "In the fast-evolving field of machine learning (ML), the ability to efficiently operationalize models is crucial. This project is an exploration into ZenML, an MLOps framework designed to simplify and streamline the process of building and managing ML workflows. The objective is to quickly ramp up on ZenML, demonstrating its utility and effectiveness in a practical context.\n",
    "\n",
    "#### Project Context\n",
    "\n",
    "Machine Learning engineers often face challenges related to the scalability, reproducibility, and deployment of ML models. Traditional approaches can lead to cumbersome and disjointed workflows. ZenML addresses these issues, providing an elegant and powerful solution for ML operations (MLOps). This project serves as a hands-on introduction to ZenML, showcasing its capabilities through a concrete example.\n",
    "\n",
    "#### Learning Objectives\n",
    "\n",
    "The key learning objectives of this project include:\n",
    "\n",
    "- Gaining practical experience with ZenML as an MLOps tool.\n",
    "- Understanding how to transition from traditional ML workflows to those managed by ZenML.\n",
    "- Demonstrating the ease of building, running, and monitoring ML pipelines with ZenML.\n",
    "- Highlighting the advantages of using an MLOps framework in terms of scalability, reproducibility, and efficiency."
   ],
   "metadata": {
    "collapsed": false
   }
  },
  {
   "cell_type": "markdown",
   "source": [
    "## Simple ML Model for Handwriting Recognition\n",
    "   - **Data Loading and Preprocessing**: It begins with loading the `load_digits` dataset from `sklearn`, consisting of hand-written digits. The data is reshaped to fit the model's requirements.\n",
    "   - **Train-Test Split**: The dataset is divided into training and testing sets, a crucial step for evaluating model performance on unseen data.\n",
    "   - **Model Training**: A Support Vector Classifier (SVC) from Scikit-learn is employed. SVC is a widely used algorithm for classification tasks, and a specific gamma value (0.001) is selected for the model.\n",
    "   - **Model Evaluation**: Post-training, the model's performance is evaluated on the test set, and the test accuracy is reported. This step assesses the effectiveness of the model."
   ],
   "metadata": {
    "collapsed": false
   }
  },
  {
   "cell_type": "code",
   "execution_count": 20,
   "outputs": [
    {
     "name": "stdout",
     "output_type": "stream",
     "text": [
      "Test accuracy: 0.9583333333333334\n"
     ]
    }
   ],
   "source": [
    "import numpy as np\n",
    "from sklearn.base import ClassifierMixin\n",
    "from sklearn.svm import SVC\n",
    "from sklearn.datasets import load_digits\n",
    "from sklearn.model_selection import train_test_split\n",
    "\n",
    "def train_test() -> None:\n",
    "    \"\"\"Train and test a Scikit-learn SVC classifier on digits\"\"\"\n",
    "\n",
    "    digits = load_digits()\n",
    "    data = digits.images.reshape((len(digits.images), -1))\n",
    "    X_train, X_test, y_train, y_test = train_test_split(\n",
    "        data, digits.target, test_size=0.2, shuffle=False\n",
    "    )\n",
    "\n",
    "    model = SVC(gamma=0.001)\n",
    "    model.fit(X_train, y_train)\n",
    "    test_acc = model.score(X_test, y_test)\n",
    "    print(f\"Test accuracy: {test_acc}\")\n",
    "train_test()"
   ],
   "metadata": {
    "collapsed": false
   }
  },
  {
   "cell_type": "markdown",
   "source": [
    "## Creating ML Pipeline with ZenML\n",
    "   - **Defining Steps with Decorators**:\n",
    "     - `importer`: A function for importing and preprocessing data.\n",
    "     - `svc_trainer`: This function takes training data to train the SVC model.\n",
    "     - `evaluator`: It evaluates the trained model's performance on the test dataset.\n",
    "   - These functions are decorated with `@step`, making them reproducible and isolated steps in an ML pipeline.\n",
    "   - **Pipeline Definition**: A `digits_pipeline` is defined using the ZenML `@pipeline` decorator, orchestrating the data importing, model training, and evaluation steps.\n",
    "   - **Pipeline Execution**: The pipeline is instantiated and executed, demonstrating the simplicity and efficiency of using ZenML for ML pipelines.\n"
   ],
   "metadata": {
    "collapsed": false
   }
  },
  {
   "cell_type": "code",
   "execution_count": 4,
   "outputs": [],
   "source": [
    "from zenml import step\n",
    "from typing import Annotated\n",
    "import pandas as pd\n",
    "from typing import Tuple\n",
    "\n",
    "@step\n",
    "def importer() -> Tuple[\n",
    "    Annotated[np.ndarray, \"X_train\"],\n",
    "    Annotated[np.ndarray, \"X_test\"],\n",
    "    Annotated[np.ndarray, \"y_train\"],\n",
    "    Annotated[np.ndarray, \"y_test\"]]:\n",
    "    digits = load_digits()\n",
    "    data = digits.images.reshape((len(digits.images), -1))\n",
    "    X_train, X_test, y_train, y_test = train_test_split(\n",
    "        data, digits.target, test_size=0.2, shuffle=False\n",
    "    )\n",
    "    return X_train, X_test, y_train, y_test\n",
    "\n",
    "@step\n",
    "def svc_trainer(X_train:np.ndarray, y_train:np.ndarray)-> ClassifierMixin:\n",
    "    model = SVC(gamma=0.001)\n",
    "    model.fit(X_train, y_train)\n",
    "    return model\n",
    "\n",
    "@step\n",
    "def evaluator(X_test:np.ndarray, y_test:np.ndarray,model:ClassifierMixin)-> float:\n",
    "    test_acc = model.score(X_test, y_test)\n",
    "    print(f\"Test accuracy: {test_acc}\")\n",
    "    return test_acc"
   ],
   "metadata": {
    "collapsed": false
   }
  },
  {
   "cell_type": "code",
   "execution_count": 6,
   "outputs": [],
   "source": [
    "from zenml import pipeline\n",
    "\n",
    "@pipeline\n",
    "def digits_pipeline():\n",
    "     X_train, X_test, y_train, y_test = importer()\n",
    "     model = svc_trainer(X_train=X_train, y_train=y_train)\n",
    "     evaluator(X_test=X_test, y_test=y_test, model=model)"
   ],
   "metadata": {
    "collapsed": false
   }
  },
  {
   "cell_type": "code",
   "execution_count": 19,
   "outputs": [
    {
     "name": "stdout",
     "output_type": "stream",
     "text": [
      "\u001B[1;35mInitiating a new run for the pipeline: \u001B[0m\u001B[1;36mdigits_pipeline\u001B[1;35m.\u001B[0m\n",
      "\u001B[1;35mReusing registered version: \u001B[0m\u001B[1;36m(version: 1)\u001B[1;35m.\u001B[0m\n",
      "\u001B[1;35mExecuting a new run.\u001B[0m\n",
      "\u001B[1;35mUsing user: \u001B[0m\u001B[1;36mdefault\u001B[1;35m\u001B[0m\n",
      "\u001B[1;35mUsing stack: \u001B[0m\u001B[1;36mdefault\u001B[1;35m\u001B[0m\n",
      "\u001B[1;35m  orchestrator: \u001B[0m\u001B[1;36mdefault\u001B[1;35m\u001B[0m\n",
      "\u001B[1;35m  artifact_store: \u001B[0m\u001B[1;36mdefault\u001B[1;35m\u001B[0m\n",
      "\u001B[1;35mUsing cached version of \u001B[0m\u001B[1;36mimporter\u001B[1;35m.\u001B[0m\n",
      "\u001B[1;35mStep \u001B[0m\u001B[1;36mimporter\u001B[1;35m has started.\u001B[0m\n",
      "\u001B[1;35mUsing cached version of \u001B[0m\u001B[1;36msvc_trainer\u001B[1;35m.\u001B[0m\n",
      "\u001B[1;35mLinking artifact \u001B[0m\u001B[1;36moutput\u001B[1;35m to model \u001B[0m\u001B[1;36mNone\u001B[1;35m version \u001B[0m\u001B[1;36mNone\u001B[1;35m implicitly.\u001B[0m\n",
      "\u001B[1;35mStep \u001B[0m\u001B[1;36msvc_trainer\u001B[1;35m has started.\u001B[0m\n",
      "\u001B[1;35mUsing cached version of \u001B[0m\u001B[1;36mevaluator\u001B[1;35m.\u001B[0m\n",
      "\u001B[1;35mLinking artifact \u001B[0m\u001B[1;36moutput\u001B[1;35m to model \u001B[0m\u001B[1;36mNone\u001B[1;35m version \u001B[0m\u001B[1;36mNone\u001B[1;35m implicitly.\u001B[0m\n",
      "\u001B[1;35mStep \u001B[0m\u001B[1;36mevaluator\u001B[1;35m has started.\u001B[0m\n",
      "\u001B[1;35mRun \u001B[0m\u001B[1;36mdigits_pipeline-2023_12_22-03_53_38_069705\u001B[1;35m has finished in \u001B[0m\u001B[1;36m0.223s\u001B[1;35m.\u001B[0m\n",
      "\u001B[1;35mYou can visualize your pipeline runs in the \u001B[0m\u001B[1;36mZenML Dashboard\u001B[1;35m. In order to try it locally, please run \u001B[0m\u001B[1;36mzenml up\u001B[1;35m.\u001B[0m\n"
     ]
    }
   ],
   "source": [
    "digits_svc_pipeline = digits_pipeline()"
   ],
   "metadata": {
    "collapsed": false
   }
  },
  {
   "cell_type": "code",
   "execution_count": 15,
   "outputs": [],
   "source": [
    "!zenml up --blocking --port {port}"
   ],
   "metadata": {
    "collapsed": false
   }
  },
  {
   "cell_type": "code",
   "execution_count": null,
   "outputs": [],
   "source": [],
   "metadata": {
    "collapsed": false
   }
  }
 ],
 "metadata": {
  "kernelspec": {
   "display_name": "Python 3",
   "language": "python",
   "name": "python3"
  },
  "language_info": {
   "codemirror_mode": {
    "name": "ipython",
    "version": 2
   },
   "file_extension": ".py",
   "mimetype": "text/x-python",
   "name": "python",
   "nbconvert_exporter": "python",
   "pygments_lexer": "ipython2",
   "version": "2.7.6"
  }
 },
 "nbformat": 4,
 "nbformat_minor": 0
}
